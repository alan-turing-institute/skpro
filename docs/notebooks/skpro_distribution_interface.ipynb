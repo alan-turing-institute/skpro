{
 "cells": [
  {
   "cell_type": "markdown",
   "metadata": {},
   "source": [
    "# SkPro distribution interface\n",
    "\n"
   ]
  },
  {
   "cell_type": "markdown",
   "metadata": {},
   "source": [
    "SkPro proposes an object oriented distribution class implementation. Every class inherits some cdf, pmf or pdf functions (depending wether the distribution is discrete or continuous)."
   ]
  },
  {
   "cell_type": "code",
   "execution_count": 1,
   "metadata": {},
   "outputs": [],
   "source": [
    "#@title IMPORTS\n",
    "import skpro\n",
    "from skpro.distributions.distribution_normal import NormalDistribution\n",
    "from skpro.distributions.distribution_multivariate_normal import MultiVariateNormal"
   ]
  },
  {
   "cell_type": "markdown",
   "metadata": {},
   "source": [
    "## 1. Distribution basics"
   ]
  },
  {
   "cell_type": "code",
   "execution_count": 2,
   "metadata": {},
   "outputs": [
    {
     "name": "stdout",
     "output_type": "stream",
     "text": [
      "NormalDistribution(loc=0, scale=1)\n"
     ]
    }
   ],
   "source": [
    "# univariate normal instanciation\n",
    "n = NormalDistribution(loc = 0, scale = 1)\n",
    "print(n)"
   ]
  },
  {
   "cell_type": "markdown",
   "metadata": {},
   "source": [
    "All distribution classes have a \"scikit-learn\" like paramerters interfacing through inheritence of the scikit-learn  \"BaseEstimator\" class. It thus possesses the \"get_params\" and \"set_params\" methods.\n",
    "- '__get_params__' : returns a dict of the '__init__' parameters of the estimator, together with their values.\n",
    "- '__set_params__' : takes as input a dict of the form {parameter, value} and sets the parameter of the estimator using this dict. Return value must be estimator itself."
   ]
  },
  {
   "cell_type": "code",
   "execution_count": 3,
   "metadata": {},
   "outputs": [
    {
     "name": "stdout",
     "output_type": "stream",
     "text": [
      "default parameters :\n",
      "{'loc': 0.0, 'scale': 1.0}\n",
      "\t\n",
      "modified parameters :\n",
      "{'loc': 3.0, 'scale': 1.0}\n",
      "\t\n",
      "overwritten parameters :\n",
      "{'loc': 0.0, 'scale': 2.0}\n"
     ]
    }
   ],
   "source": [
    "n = NormalDistribution()\n",
    "\n",
    "print(\"default parameters :\")\n",
    "params = n.get_params()\n",
    "print(params) \n",
    "print(\"\\t\")\n",
    "\n",
    "print(\"modified parameters :\")\n",
    "n.set_params(loc = 3.0)\n",
    "params = n.get_params()\n",
    "print(params)\n",
    "print(\"\\t\")\n",
    "\n",
    "print(\"overwritten parameters :\")\n",
    "parameters = {'loc': 0.0, 'scale': 2.0}\n",
    "n.set_params(**parameters)\n",
    "print(n.get_params())"
   ]
  },
  {
   "cell_type": "markdown",
   "metadata": {},
   "source": [
    "Basic member accessor are implemented for each distribution class :\n",
    "- __name()__ : return the string tag of the distribution\n",
    "- __support()__ : return the support object of the distribution (with a method 'inSupport(x)' returing True if x is in the support)\n",
    "- __dtype()__ : return the type of the distribution ['UNDEFINED', 'DISCRETE', 'CONTINUOUS, 'MIXED']\n",
    "- __variateSize()__ : return the dimension (i.e. 1 for univariate)\n",
    "- __vectorSize()__ : return the vector size\n",
    "\n",
    "Basic stats method :\n",
    "- __point()__ : returns what is defined as the point estimate of the distribution\n",
    "- __mean()__\n",
    "- __variance()__\n",
    "- __std()__\n",
    "- __mode()__\n",
    "\n",
    "Basic dpqr methods :\n",
    "- __pdf(X)__ : returns the pdf of (X) if the distribution type is defined as 'CONTINUOUS' or 'MIXED' else raise an error\n",
    "- __pmf(X)__ : returns the pmf of (X) if the distribution type is defined as 'DISCRETE' or 'MIXED' else raise an error\n",
    "- __cdf(X)__ : returns the cdf of (X) if the distribution\n",
    "- __squared_norm()__ : returns the L2 norm of the distribution if implemented else raise an error\n"
   ]
  },
  {
   "cell_type": "code",
   "execution_count": 4,
   "metadata": {},
   "outputs": [
    {
     "name": "stdout",
     "output_type": "stream",
     "text": [
      "NormalDistribution(loc=0.0, scale=1.0)\n",
      "name : normal\n",
      "type : distType.CONTINUOUS\n",
      "size : 1\n",
      "dimension : 1\n",
      "<skpro.distributions.component.support.RealContinuousSupport object at 0x000002D68A9CFF88>\n",
      "\t\n",
      "pdf(0) :[0.39894228]\n",
      "cdf(0) :[0.5]\n"
     ]
    }
   ],
   "source": [
    "n = NormalDistribution()\n",
    "print(n)\n",
    "print('name : ' + str(n.name()))\n",
    "print('type : ' + str(n.dtype()))\n",
    "print(\"size : \" + str(n.vectorSize()))\n",
    "print(\"dimension : \" + str(n.variateSize()))\n",
    "print(n.support())\n",
    "print(\"\\t\")\n",
    "\n",
    "x = 0\n",
    "if(n.support().inSupport(x)):\n",
    "    print(\"pdf(0) :\" + str(n.pdf(x)))\n",
    "    print(\"cdf(0) :\" + str(n.cdf(x)))\n",
    "\n",
    "      "
   ]
  },
  {
   "cell_type": "markdown",
   "metadata": {},
   "source": [
    "## 2. Vectorization"
   ]
  },
  {
   "cell_type": "markdown",
   "metadata": {},
   "source": [
    "The distribution object can be vectorized within a single object instanciation. A dictionary of parameters is processed within the distributionBase '__init__' method and kept as member. The subset of the vector can be accessed through: \n",
    "- '__get_params(index)__' that returns a dict of parameters for the given index. It is implemented as an override of the 'BaseEstimator' 'get_params'. Without indexing it simply calls the base global \"get_params\" otherwise it returns the indexed parameters set only.\n",
    "- '__getitem(slice)__' that enables the evaluation of self[slice]. It returns a distribution object copy containing only the sliced subset of the distribution."
   ]
  },
  {
   "cell_type": "code",
   "execution_count": 5,
   "metadata": {},
   "outputs": [
    {
     "name": "stdout",
     "output_type": "stream",
     "text": [
      "size : 3\n",
      "dimension : 1\n",
      "\t\n",
      "base parameter sets dictionary :\n",
      "{'loc': [5, 10, 0], 'scale': [20, 30, 10]}\n",
      "\t\n",
      "first distribution function parameters set :\n",
      "{'loc': 5, 'scale': 20}\n",
      "\t\n",
      "second distributon function parameters set :\n",
      "{'loc': 10, 'scale': 30}\n",
      "\t\n",
      "third distributon function parameters set :\n",
      "{'loc': 0, 'scale': 10}\n",
      "\t\n",
      "second distribution :\n",
      "NormalDistribution(loc=10, scale=30)\n",
      "\t\n",
      "first two distribution :\n",
      "NormalDistribution(loc=[5, 10], scale=[20, 30])\n",
      "\t\n",
      "second distributon function parameters set :\n",
      "{'loc': 10, 'scale': 30}\n"
     ]
    }
   ],
   "source": [
    "n = NormalDistribution([5, 10, 0], [20, 30, 10])\n",
    "print(\"size : \" + str(n.vectorSize()))\n",
    "print(\"dimension : \" + str(n.variateSize()))\n",
    "print(\"\\t\")\n",
    "\n",
    "print(\"base parameter sets dictionary :\")\n",
    "print(n.get_params())\n",
    "print(\"\\t\")\n",
    "\n",
    "print(\"first distribution function parameters set :\")\n",
    "print(n.get_params(0))\n",
    "print(\"\\t\")\n",
    "\n",
    "print(\"second distributon function parameters set :\")\n",
    "print(n.get_params(1))\n",
    "print(\"\\t\")\n",
    "\n",
    "print(\"third distributon function parameters set :\")\n",
    "print(n.get_params(2))\n",
    "print(\"\\t\")\n",
    "\n",
    "print(\"second distribution :\")\n",
    "print(n[1])\n",
    "print(\"\\t\")\n",
    "\n",
    "print(\"first two distribution :\")\n",
    "print(n[0:1])\n",
    "print(\"\\t\")\n",
    "\n",
    "print(\"second distributon function parameters set :\")\n",
    "print(n[1].get_params())\n"
   ]
  },
  {
   "cell_type": "markdown",
   "metadata": {},
   "source": [
    "For a vectorized distribution object, evaluation functions (cdf, pdf, pmf, ...) can be called in different mode. Assuming a m.size distribution object and a n.size samples of evaluation point : "
   ]
  },
  {
   "cell_type": "code",
   "execution_count": 6,
   "metadata": {},
   "outputs": [],
   "source": [
    "#using a size 3 vectorize univariate normal object\n",
    "n = NormalDistribution([0, 0.1], [1, 1.2])\n",
    "evaluation_array = [0, 0.25, 0.5]"
   ]
  },
  {
   "cell_type": "markdown",
   "metadata": {},
   "source": [
    "1. '__batch__' evaluation mode [active by-default] : evaluates on a each-for-each basis, \n",
    "    i.e. returns a nxm matrix output if (n > 1) or a mx1 vector if (n = 1)"
   ]
  },
  {
   "cell_type": "code",
   "execution_count": 7,
   "metadata": {},
   "outputs": [
    {
     "name": "stdout",
     "output_type": "stream",
     "text": [
      "cdf 'single 0' evaluation:\n",
      "[0.39894228 0.33129956]\n",
      "\t\n",
      "pdf 'single 0' evaluation:\n",
      "[0.5        0.46679325]\n"
     ]
    }
   ],
   "source": [
    "#@point pdf/cdf \n",
    "print(\"cdf 'single 0' evaluation:\")\n",
    "print(n.pdf(0))\n",
    "print(\"\\t\")\n",
    "\n",
    "print(\"pdf 'single 0' evaluation:\")\n",
    "print(n.cdf(0))"
   ]
  },
  {
   "cell_type": "code",
   "execution_count": 8,
   "metadata": {},
   "outputs": [
    {
     "name": "stdout",
     "output_type": "stream",
     "text": [
      "pdf 'batch' evaluation:\n",
      "[[0.39894228 0.33129956]\n",
      " [0.38666812 0.32986474]\n",
      " [0.35206533 0.31448602]]\n",
      "\t\n",
      "cdf 'batch' evaluation:\n",
      "[[0.5        0.46679325]\n",
      " [0.59870633 0.54973822]\n",
      " [0.69146246 0.63055866]]\n"
     ]
    }
   ],
   "source": [
    "#@batch_wise pdf/cdf\n",
    "\n",
    "print(\"pdf 'batch' evaluation:\")\n",
    "print(n.pdf(evaluation_array))\n",
    "print(\"\\t\")\n",
    "\n",
    "print(\"cdf 'batch' evaluation:\")\n",
    "print(n.cdf(evaluation_array))"
   ]
  },
  {
   "cell_type": "markdown",
   "metadata": {},
   "source": [
    "2. __'element_wise'__ mode evaluates on a one for one basis. It repeats the sequence of distribution p_i until there are m, i.e., p_1,...,p_n,p_1,p_2,...,p_n,p_1,...,p_m' where m is the remainder of dividing m by n. Thus will output a m sized array."
   ]
  },
  {
   "cell_type": "markdown",
   "metadata": {},
   "source": [
    "The 'Mode' can be accessed or changed using the following methods:\n",
    "- '__getMode__' poutput the current active Mode \n",
    "- __setMode(.)__' reset the current mode to (.). Accept a 'Mode' enum argument [Mode.ELEMENT_WISE, Mode.BARCH]"
   ]
  },
  {
   "cell_type": "code",
   "execution_count": 9,
   "metadata": {},
   "outputs": [
    {
     "name": "stdout",
     "output_type": "stream",
     "text": [
      "default mode: Mode.BATCH\n",
      "reset to: Mode.ELEMENT_WISE\n",
      "\t\n",
      "cdf 'element-wise' evaluation:\n",
      "[0.3989422804014327, 0.3298647391206246, 0.3520653267642995]\n",
      "\t\n",
      "pdf 'element-wise' evaluation:\n",
      "[0.5, 0.5497382248301129, 0.691462461274013]\n"
     ]
    }
   ],
   "source": [
    "#@element_wise pdf/cdf on size 2 vectorized univariate\n",
    "from skpro.distributions.distribution_base import Mode\n",
    "\n",
    "n = NormalDistribution([0, 0.1], [1, 1.2])\n",
    "print('default mode: ' + str(n.getMode()))\n",
    "\n",
    "n.setMode(Mode.ELEMENT_WISE)\n",
    "print('reset to: ' + str(n.getMode()))\n",
    "print(\"\\t\")\n",
    "\n",
    "print(\"cdf 'element-wise' evaluation:\")\n",
    "print(n.pdf(evaluation_array))\n",
    "print(\"\\t\")\n",
    "\n",
    "print(\"pdf 'element-wise' evaluation:\")\n",
    "print(n.cdf(evaluation_array))\n"
   ]
  },
  {
   "cell_type": "markdown",
   "metadata": {},
   "source": [
    "## 2. Multivariate distributions"
   ]
  },
  {
   "cell_type": "markdown",
   "metadata": {},
   "source": [
    "Multivariate distributions can be instanciated in a similar way. See below with a bivariate normal"
   ]
  },
  {
   "cell_type": "code",
   "execution_count": 10,
   "metadata": {},
   "outputs": [
    {
     "name": "stdout",
     "output_type": "stream",
     "text": [
      "size : 1\n",
      "dimension : 2\n",
      "\n",
      "instanciated parameters :\n",
      "{'cov': <skpro.distributions.covariance.CovarianceMatrix object at 0x000002D68A9D7D08>, 'loc': [0, 0.5]}\n",
      "\t\n"
     ]
    }
   ],
   "source": [
    "#@ instanciation of a bivariate normal\n",
    "covariance = [[1, 0],[0, 1]]\n",
    "nbiv = MultiVariateNormal([0, 0.5], covariance)\n",
    "    \n",
    "print(\"size : \" + str(nbiv.vectorSize()))\n",
    "print(\"dimension : \" + str(nbiv.variateSize()) + \"\\n\")\n",
    "\n",
    "print(\"instanciated parameters :\")\n",
    "print(nbiv.get_params())\n",
    "print(\"\\t\")"
   ]
  },
  {
   "cell_type": "markdown",
   "metadata": {},
   "source": [
    "Here the multivariate normal distribution processes the covariance array and convert it within the 'init' method into a 'CovarianceMatrix' object member. "
   ]
  },
  {
   "cell_type": "code",
   "execution_count": 11,
   "metadata": {},
   "outputs": [
    {
     "name": "stdout",
     "output_type": "stream",
     "text": [
      "cov object type:\n",
      "<class 'skpro.distributions.covariance.CovarianceMatrix'>\n",
      "\t\n",
      "cov print:\n",
      "<skpro.distributions.covariance.CovarianceMatrix object at 0x000002D68A9D7D08>\n"
     ]
    }
   ],
   "source": [
    "covobj = nbiv.get_params()['cov']\n",
    "\n",
    "print('cov object type:')\n",
    "print(type(covobj))\n",
    "print(\"\\t\")\n",
    "\n",
    "print('cov print:')\n",
    "print(covobj)\n"
   ]
  },
  {
   "cell_type": "markdown",
   "metadata": {},
   "source": [
    "Multivariate distributions can be be vectorized again in a similar way:"
   ]
  },
  {
   "cell_type": "code",
   "execution_count": 12,
   "metadata": {},
   "outputs": [
    {
     "name": "stdout",
     "output_type": "stream",
     "text": [
      "size : 2\n",
      "dimension : 2\n",
      "\n",
      "base parameter sets dictionary :\n",
      "{'cov': [<skpro.distributions.covariance.CovarianceMatrix object at 0x000002D68A9DCA48>, <skpro.distributions.covariance.CovarianceMatrix object at 0x000002D68A9DC3C8>], 'loc': [[0, 0.5], [0, 0]]}\n",
      "\t\n",
      "first bivariate distribution parameters set :\n",
      "{'cov': <skpro.distributions.covariance.CovarianceMatrix object at 0x000002D68A9DCA48>, 'loc': [0, 0.5]}\n",
      "\t\n",
      "second bivariate distributon parameters set :\n",
      "{'cov': <skpro.distributions.covariance.CovarianceMatrix object at 0x000002D68A9DC3C8>, 'loc': [0, 0]}\n",
      "\t\n"
     ]
    }
   ],
   "source": [
    "#@ vectorization of a size 2 bivariate normal\n",
    "covariance_1 = [[1, 0],[0, 1]]\n",
    "covariance_2 = [[1, 0.5],[0.5, 1]]\n",
    "n = MultiVariateNormal(loc = [[0, 0.5], [0, 0]], cov = [covariance_1, covariance_2])\n",
    "\n",
    "print(\"size : \" + str(n.vectorSize()))\n",
    "print(\"dimension : \" + str(n.variateSize()) + \"\\n\")\n",
    "\n",
    "print(\"base parameter sets dictionary :\")\n",
    "print(n.get_params())\n",
    "print(\"\\t\")\n",
    "\n",
    "print(\"first bivariate distribution parameters set :\")\n",
    "print(n.get_params(0))\n",
    "print(\"\\t\")\n",
    "\n",
    "print(\"second bivariate distributon parameters set :\")\n",
    "print(n.get_params(1))\n",
    "print(\"\\t\")"
   ]
  }
 ],
 "metadata": {
  "kernelspec": {
   "display_name": "Python 3",
   "language": "python",
   "name": "python3"
  },
  "language_info": {
   "codemirror_mode": {
    "name": "ipython",
    "version": 3
   },
   "file_extension": ".py",
   "mimetype": "text/x-python",
   "name": "python",
   "nbconvert_exporter": "python",
   "pygments_lexer": "ipython3",
   "version": "3.7.4"
  }
 },
 "nbformat": 4,
 "nbformat_minor": 2
}
