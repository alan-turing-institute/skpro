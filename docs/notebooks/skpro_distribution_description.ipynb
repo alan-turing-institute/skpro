{
 "cells": [
  {
   "cell_type": "markdown",
   "metadata": {},
   "source": [
    "# SkPro distribution description\n"
   ]
  },
  {
   "cell_type": "markdown",
   "metadata": {},
   "source": [
    "SkPro proposes an object oriented distribution class implementation. We provide here its implementation main principles. "
   ]
  },
  {
   "cell_type": "markdown",
   "metadata": {},
   "source": [
    "The __'DistributionBase'__ class serves as the main base abstract for all distribution concrete class. <br>\n",
    "'DistributionBase' inherits itself from the 3 following classes : \n",
    "\n",
    "- __BaseEstimator__ : base class for all estimators in scikit-learn. All distribution class then possess the 'get_params' and 'set_params' methods present in scikit-learn.\n",
    "\n",
    "<t>\n",
    "\n",
    "- __DPQRMixin__ : mixin class that contains the pdf/pmf/cdf abstract methods that should be overriden in the distribution subclass (else raise a \"non implemented\"-like error message).\n",
    "\n",
    "<t>\n",
    "\n",
    "- __BasicStatsMixin__ : mixin class for some basic stats abstract methods that should again be ovrriden iin the distribution subclass (else raise a  \"non implemented\"-like error message) \n"
   ]
  },
  {
   "cell_type": "markdown",
   "metadata": {},
   "source": [
    "### Distribution class initialisation and parameters storage"
   ]
  },
  {
   "cell_type": "markdown",
   "metadata": {},
   "source": [
    "Every distribution concrete classes init() method must call the distribution base constructor (i.e. super().init() ). Different skpro modular sub-components should be instantiated from the init() arguments and passed to the super().init() ( depending on the distribution attributes ). A full list and description of these components are indicated below.\n",
    "\n",
    "For easy and flexible access, every concrete distribution has its (vectorized) parameters stored into a single skpro object container called 'parametersFrame'. A 'parametersFrame' takes a dictionary of parameters lists and stores them in a Pandas DataFrame (as member with shape : n.distribution.samples, m.parameters). \n",
    "\n",
    "<t>\n",
    "    \n",
    "This 'parameterFrame' is declared as a private member of the distribution base class. When initialized the distribution base calls its private method 'register' that get the distribution parameters (with 'get_params()' )  and instantiates the 'parameterFrame' private member.\n",
    "\n",
    "\n",
    "$\\;\\;\\;\\;\\;\\;$\n",
    "\n",
    "\n",
    "\n",
    "__DistributionBase class init() pseudo code :__        \n",
    "\n",
    "\n",
    "```python\n",
    "class parametersFrame :\n",
    "\n",
    "    def __init__(self, data = []):\n",
    "        self.data_ = data\n",
    "        \n",
    "    def setData(self, data):\n",
    "        self.data_ = pd.DataFrame(data)\n",
    "     \n",
    "    (...)\n",
    "    \n",
    "    \n",
    "class DistributionBase(BaseEstimator, BasicStatsMixin, DPQRMixin) :\n",
    "    \n",
    "    def __init__(self,\n",
    "             dtype = distType.UNDEFINED, \n",
    "             vectorSize = 1, \n",
    "             variateComponent = VariateInfos(), \n",
    "             support = NulleSupport(),\n",
    "             mode = Mode.BATCH):\n",
    "              \n",
    "             (...)\n",
    "\n",
    "             self._register()\n",
    "        \n",
    "                \n",
    "    def _register(self):\n",
    "\n",
    "        if self.vectorSize() > 1 :\n",
    "            self.paramsFrame_.setData(self.get_params())\n",
    "\n",
    "        else : \n",
    "            dic = {}\n",
    "            for key, val in self.get_params().items() :\n",
    "                dic[key] = [val]\n",
    "\n",
    "            self.paramsFrame_.setData(dic)\n",
    "```\n",
    "$\\;\\;\\;\\;\\;\\;$\n",
    "        \n",
    "\n",
    "__DistributionBase class init() arguments :__       \n",
    "\n",
    "\n",
    "| | |\n",
    "| :---| :--- |\n",
    "|dtype | Enum specifying the distribution type [CONTINUOUS, DISCRETE, MIXED, UNDEFINED]|\n",
    "|vectorSize | int specifying the distribution vector size (1 by default) |\n",
    "|variateComponent |  VariateInfos structure (skpro.distributions.component.VariateInfos) that stores the dimension informations (int size and variateEnum [UNIVARIATE, MULTIVARIATE])|\n",
    "|support | support object (skpro.distributions.component.Support). To be used to assess the validity of the evaluation point passed to the pdf/pmf/cdf methods (through its method inSupport(.)) |\n",
    "| mode | Enum specifying the default evaluation mode to be used for the pdf/pmf/cdf methods|\n",
    "\n",
    "\n",
    "\n",
    "$\\;\\;\\;\\;\\;\\;$\n",
    "\n",
    "\n",
    "__Concrete distribution init() example :__\n",
    "\n",
    "\n",
    "```python\n",
    "class NormalDistribution(DistributionBase) :\n",
    "\n",
    "     def __init__(self, loc = 0.0, scale = 1.0):\n",
    "        \n",
    "        self.loc = loc\n",
    "        self.scale = scale \n",
    "\n",
    "        super().__init__(\n",
    "                name = 'normal', \n",
    "                dtype = distType.CONTINUOUS,\n",
    "                vectorSize = utils.dim(loc), \n",
    "                support = RealContinuousSupport()\n",
    "        )\n",
    "```\n",
    "\n",
    "\n",
    "\n",
    "\n"
   ]
  },
  {
   "cell_type": "markdown",
   "metadata": {},
   "source": [
    "### DPQR implicit interface\n",
    "\n",
    "The  pdf/pmf/cdf methods work with an __implicit interface implementation__. The interface methods are declared in the base distribution class. They serves as the sole methods the user would use to evaluate from the distribution.\n",
    "\n",
    "Each of these eventually perform a series of checks before calling their respective implied method  (pdf_impl/pmf_impl/cdf_impl) that contains the implementation details. If needed they can : 1. check the validity of the distribution type for the function considered (ex. pdf should only accept continuous or mixed distribution), 2. ensure that the argument is within the support range, and 3. manage the mode of evaluation ( [BATCH, ELEMENT_WISE] ).\n",
    "\n",
    "The base class inherits an abstract version of the implied methods from the DPQRMixin. They should  then be overriden in every concrete distribution class (with some details relative to the distribution). If no concrete override is implemented, the DPQRMixin implementation returns an error message (of type ValueError('function not implemented') ).\n",
    "\n",
    "\n",
    "$\\;\\;\\;\\;\\;\\;$\n",
    "\n",
    "__DPQR interface pseudo-code :__\n",
    "\n",
    "\n",
    "```python\n",
    "class DPQRMixin():\n",
    "    \n",
    "    def pdf_imp(self, X):\n",
    "        raise ValueError('pdf function not implemented')\n",
    "        \n",
    "    (...)\n",
    "\n",
    "\n",
    "        \n",
    "class DistributionBase(..., DPQRMixin):\n",
    "        \n",
    "        (...)\n",
    "        \n",
    "            def pdf(self, X):\n",
    "                \n",
    "                if(self.dtype in [distType.DISCRETE, distType.UNDEFINED]):\n",
    "                    raise ValueError('pdf function not permitted for non continuous distribution')\n",
    "                \n",
    "                if(not self.support().inSupport(X)):\n",
    "                    raise ValueError('X is outside permitted support')\n",
    "                    \n",
    "                if(self.mode_ is Mode.ELEMENT_WISE):\n",
    "                    self.pdf_imp = self.elementWiseDecorator(self.pdf_imp)\n",
    "        \n",
    "                return self.pdf_imp(X)\n",
    "```\n"
   ]
  },
  {
   "cell_type": "markdown",
   "metadata": {},
   "source": [
    "### Mode Mechanism"
   ]
  },
  {
   "cell_type": "markdown",
   "metadata": {},
   "source": [
    "### ULM Summury"
   ]
  },
  {
   "cell_type": "markdown",
   "metadata": {},
   "source": [
    "<img src=\"skpro_distribution.png\">"
   ]
  }
 ],
 "metadata": {
  "kernelspec": {
   "display_name": "Python 3",
   "language": "python",
   "name": "python3"
  },
  "language_info": {
   "codemirror_mode": {
    "name": "ipython",
    "version": 3
   },
   "file_extension": ".py",
   "mimetype": "text/x-python",
   "name": "python",
   "nbconvert_exporter": "python",
   "pygments_lexer": "ipython3",
   "version": "3.7.4"
  }
 },
 "nbformat": 4,
 "nbformat_minor": 2
}
