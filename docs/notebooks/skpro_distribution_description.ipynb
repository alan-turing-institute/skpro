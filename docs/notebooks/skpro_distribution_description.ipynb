{
 "cells": [
  {
   "cell_type": "markdown",
   "metadata": {},
   "source": [
    "# SkPro distribution description\n"
   ]
  },
  {
   "cell_type": "markdown",
   "metadata": {},
   "source": [
    "SkPro proposes an object oriented distribution class implementation. We provide here its implementation main principles. "
   ]
  },
  {
   "cell_type": "markdown",
   "metadata": {},
   "source": [
    "The __'DistributionBase'__ class serves as the main base abstract for all distribution concrete class. <br>\n",
    "'DistributionBase' inherits itself from the 3 following classes : \n",
    "\n",
    "- __BaseEstimator__ : scikit-learn base class for estimators, used to inherit the 'get_params' and 'set_params' scikit-learn functionalities.\n",
    "\n",
    "<t>\n",
    "\n",
    "- __DPQRMixin__ : mixin class that contains the pdf/pmf/cdf abstract methods that should be overriden in the distribution subclass (else raise a \"non implemented\"-like error message).\n",
    "\n",
    "<t>\n",
    "\n",
    "- __BasicStatsMixin__ : mixin class for some basic stats abstract methods that should again be ovrriden iin the distribution subclass (else raise a  \"non implemented\"-like error message) \n"
   ]
  },
  {
   "cell_type": "markdown",
   "metadata": {},
   "source": [
    "### ULM"
   ]
  },
  {
   "cell_type": "markdown",
   "metadata": {},
   "source": [
    "<img src=\"skpro_distribution.png\">"
   ]
  },
  {
   "cell_type": "markdown",
   "metadata": {},
   "source": [
    "### 1. Distribution class initialisation and parameters storage"
   ]
  },
  {
   "cell_type": "markdown",
   "metadata": {},
   "source": [
    "Concrete distribution initialization method must call the distribution base constructor (i.e. super().init()). The base class constructor takes itself as arguments different skpro modular sub-components specifying the distribution attributes. A full list and description of these components are indicated below.\n",
    "\n"
   ]
  },
  {
   "cell_type": "markdown",
   "metadata": {},
   "source": [
    "__DistributionBase class init() pseudo code :__        \n",
    "\n",
    "\n",
    "```python\n",
    "class DistributionBase(BaseEstimator, BasicStatsMixin, DPQRMixin) :\n",
    "    \n",
    "    def __init__(self,\n",
    "             dtype = distType.UNDEFINED, \n",
    "             vectorSize = 1, \n",
    "             variateComponent = VariateInfos(), \n",
    "             support = NulleSupport(),\n",
    "             mode = Mode.BATCH):\n",
    "             (...)\n",
    "\n",
    "```\n"
   ]
  },
  {
   "cell_type": "markdown",
   "metadata": {},
   "source": [
    "__DistributionBase class init() arguments :__\n",
    "\n",
    "\n",
    "|Parameter |Description|\n",
    "|:---|:---|\n",
    "|dtype | Enum specifying the distribution type [CONTINUOUS, DISCRETE, MIXED, UNDEFINED]|\n",
    "|vectorSize | int specifying the distribution vector size (1 by default) |\n",
    "|variateComponent |  VariateInfos structure (skpro.distributions.component.VariateInfos) that stores the dimension informations (int size and variateEnum [UNIVARIATE, MULTIVARIATE])|\n",
    "|support | support object (skpro.distributions.component.Support). To be used to assess the validity of the evaluation point passed to the pdf/pmf/cdf methods (through its method inSupport(.)) |\n",
    "| mode | Enum specifying the default evaluation mode to be used for the pdf/pmf/cdf methods|"
   ]
  },
  {
   "cell_type": "markdown",
   "metadata": {},
   "source": [
    "__Concrete distribution init() example :__\n",
    "\n",
    "\n",
    "```python\n",
    "class NormalDistribution(DistributionBase) :\n",
    "\n",
    "     def __init__(self, loc = 0.0, scale = 1.0):\n",
    "        \n",
    "        self.loc = loc\n",
    "        self.scale = scale \n",
    "\n",
    "        super().__init__(\n",
    "                name = 'normal', \n",
    "                dtype = distType.CONTINUOUS,\n",
    "                vectorSize = utils.dim(loc), \n",
    "                support = RealContinuousSupport()\n",
    "        )\n",
    "```"
   ]
  },
  {
   "cell_type": "markdown",
   "metadata": {},
   "source": [
    "### 2. DPQR implicit interface\n",
    "\n",
    "The evaluation methods implementation rely on a __implicit interface__ design, to separate some processing/checking common to all distribution from the more specific implementation details. \n",
    "\n",
    "The interface methods (pdf/pmf/cdf) are the ones visible and used by the the user. Each of these first perform a series of checks i.e. : 1. assess the validity of the distribution type for the function considered (ex. pdf should only accept continuous or mixed distribution), 2. ensure that the argument is within the support range, or 3. manage the mode of evaluation ([BATCH, ELEMENT_WISE] - describe later). \n",
    "\n",
    "And then call some abstracted implied methods (pdf_impl/pmf_impl/cdf_impl) that must contains the implementation details. They are declared in the DPQRMixin and must be overriden in the sub-concrete class. If no concrete override is implemented, the DPQRMixin implementation raise an error by default.\n"
   ]
  },
  {
   "cell_type": "markdown",
   "metadata": {},
   "source": [
    "__DPQR interface pseudo-code :__\n",
    "\n",
    "\n",
    "```python\n",
    "class DPQRMixin():\n",
    "    \"\"\"Mixin class containing the abstract implied methods declaration\n",
    "    \"\"\"\n",
    "    \n",
    "    def pdf_imp(self, X):\n",
    "        raise ValueError('pdf function not implemented')\n",
    "        \n",
    "    (...)\n",
    "\n",
    "      \n",
    "class DistributionBase(..., DPQRMixin):  \n",
    "    (...)\n",
    "        \n",
    "    def pdf(self, X):\n",
    "    \"\"\" Main interface for the pdf method.\n",
    "    \"\"\"     \n",
    "        if(self.dtype in [distType.DISCRETE, distType.UNDEFINED]):\n",
    "            raise ValueError('pdf function not permitted for non continuous distribution')\n",
    "                \n",
    "        if(not self.support().inSupport(X)):\n",
    "            raise ValueError('X is outside permitted support')\n",
    "                    \n",
    "        if(self.mode_ is Mode.ELEMENT_WISE):\n",
    "            self.pdf_imp = self.elementWiseDecorator(self.pdf_imp)\n",
    "        \n",
    "        return self.pdf_imp(X)\n",
    "```\n"
   ]
  },
  {
   "cell_type": "markdown",
   "metadata": {},
   "source": [
    "### 3. Mode Mechanism for evaluation\n",
    "\n",
    "For a vectorized distribution object, evaluation functions (cdf, pdf, pmf, ...) can be called in two different mode. \n",
    "Assuming a m.size distribution object and a n.size samples of evaluation point :\n",
    "                \n",
    "- __[BATCH]__ evaluation mode [active by-default], evaluates on a each-for-each basis, i.e. returns a nxm matrix output if (n > 1) or a mx1 vector if (n = 1).\n",
    "\n",
    "<t>\n",
    "                   \n",
    "- __[ELEMENT_WISE]__ evaluation mode evaluates on a one for one basis. It repeats the sequence of distribution p_i until there are m, i.e., p_1,...,p_n,p_1,p_2,...,p_n,p_1,...,p_m' where m is the remainder of dividing m by n. Thus will output a m sized array.\n",
    "\n",
    "\n",
    "Every implied evaluation methods should be implemented by default assuming a BATCH mode. The parameters arguments should be called using a private method 'get_cached_param' declared in the distribution base class. It returns the vectorized parameters sliced by a private 'cached_index' member. By default 'cached_index' is set (and reset) to 'slice(None)' which corresponds to a BATCH evaluation where all distributions are evaluated. \n"
   ]
  },
  {
   "cell_type": "markdown",
   "metadata": {},
   "source": [
    "__Default BATCH evaluation mode pseudo-code :__\n",
    "\n",
    "```python\n",
    "class DistributionBase(...):\n",
    "    \n",
    "    def __init__(self, ...) :\n",
    "        (...)\n",
    "        self.cached_index_ = slice(None)\n",
    "        self._register()\n",
    "    \n",
    "    (...)\n",
    "    \n",
    "    def reset(self):\n",
    "        self.cached_index_ = slice(None)\n",
    "    \n",
    "    def get_cached_param(self, key):\n",
    "        \"\"\" private method that return a list containing the keyed parameter sliced by the 'cached_index' member. \n",
    "        \"\"\"\n",
    "        if not isinstance(key, str):\n",
    "             raise ValueError('key index must be a parameter string')\n",
    "\n",
    "        return np.array(self.paramsFrame_.getParameter(key)[self.cached_index_])\n",
    "\n",
    "    \n",
    "class NormalDistribution(DistributionBase) :  \n",
    "    \n",
    "    def __init__(self, loc = 0.0, scale = 1.0):\n",
    "        self.loc = loc\n",
    "        self.scale = scale\n",
    "        (...)\n",
    "    \n",
    "    def pdf_imp(self, X):\n",
    "        loc = self.get_cached_param('loc')\n",
    "        scale = self.get_cached_param('scale')        \n",
    "        (...)\n",
    "            \n",
    "        return results   \n",
    "```"
   ]
  },
  {
   "cell_type": "markdown",
   "metadata": {},
   "source": [
    "The __ELEMENT_WISE mode__ (if activated) operates by decorating the the implied methods before being called in the interface methods. The 'elementWiseDecorator' wrapp the implied methods into a new methods that loops through the distributions and only evaluate for each distribution the corresponding samples (according to the element-wise rule). The results are then aggregated back into a result list\n",
    "\n",
    "The iterative subseting of the vectorized distribution is made by simply modifying iteratively within the loop the 'cached_index'. The implied evaluation methods will then automatically call the adequate distribution parameters (through get_cached_param() )."
   ]
  },
  {
   "cell_type": "markdown",
   "metadata": {},
   "source": [
    "__ELEMENT_WISE evaluation mode pseudo-code :__\n",
    "\n",
    "\n",
    "```python\n",
    "class DistributionBase(...):\n",
    "    (...)\n",
    "    \n",
    "    def elementWiseDecorator(self, fn):\n",
    "        \"\"\" Decorate the pdf/pmf/cdf implied methods to perform an element wise evaluation.\n",
    "        \"\"\"\n",
    "        def wrapper(X, *args):\n",
    "  \n",
    "            result = [0]*dim(X)\n",
    "            step = min(self.vectorSize, dim(X))\n",
    "            \n",
    "            for index in range(step) :\n",
    "                self.cached_index_ = index\n",
    "                s = slice(index, dim(X) , step)\n",
    "                at = X[s]\n",
    "                result[s] = fn(at)\n",
    "                \n",
    "            self.reset()\n",
    "            \n",
    "            return result\n",
    "        \n",
    "         return wrapper\n",
    "        \n",
    "        \n",
    "    def pdf(self, X):\n",
    "    \"\"\" Main interface for the pdf method.\n",
    "    \"\"\"\n",
    "        (...)\n",
    "\n",
    "        if(self.mode_ is Mode.ELEMENT_WISE):\n",
    "            func = self.elementWiseDecorator(self.pdf_imp)\n",
    "            return func(X)\n",
    "        \n",
    "        return self.pdf_imp(X)\n",
    "```"
   ]
  },
  {
   "cell_type": "markdown",
   "metadata": {},
   "source": [
    "The 'Mode' of a distribution object can be accessed or changed by the user using the following methods:\n",
    "- '__getMode__' output the current active Mode \n",
    "- __setMode(.)__' reset the current mode to (.). Accept a 'Mode' enum argument [Mode.ELEMENT_WISE, Mode.BARCH]"
   ]
  },
  {
   "cell_type": "code",
   "execution_count": 3,
   "metadata": {},
   "outputs": [
    {
     "name": "stdout",
     "output_type": "stream",
     "text": [
      "default mode: Mode.BATCH\n",
      "reset to: Mode.ELEMENT_WISE\n"
     ]
    }
   ],
   "source": [
    "#@element_wise pdf/cdf on size 2 vectorized univariate\n",
    "from skpro.distributions.distribution_base import Mode\n",
    "from skpro.distributions.distribution_normal import Normal\n",
    "\n",
    "n = Normal([0, 0.1], [1, 1.2])\n",
    "print('default mode: ' + str(n.getMode()))\n",
    "\n",
    "n.setMode(Mode.ELEMENT_WISE)\n",
    "print('reset to: ' + str(n.getMode()))"
   ]
  }
 ],
 "metadata": {
  "kernelspec": {
   "display_name": "Python 3",
   "language": "python",
   "name": "python3"
  },
  "language_info": {
   "codemirror_mode": {
    "name": "ipython",
    "version": 3
   },
   "file_extension": ".py",
   "mimetype": "text/x-python",
   "name": "python",
   "nbconvert_exporter": "python",
   "pygments_lexer": "ipython3",
   "version": "3.7.4"
  }
 },
 "nbformat": 4,
 "nbformat_minor": 2
}
